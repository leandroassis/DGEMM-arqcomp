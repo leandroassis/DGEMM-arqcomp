{
 "cells": [
  {
   "attachments": {},
   "cell_type": "markdown",
   "metadata": {},
   "source": [
    "## Trabalho 1 - DGEMM \n",
    "\n",
    "### Grupo: Leandro Assis dos Santos e Gabriel Guimarães\n",
    "\n",
    "#### Hardware de teste:\n",
    "\n",
    "#### Informações CPU\n",
    "CPU = AMD Ryzen 5 3500U\\\n",
    "Clock = 2.1 GHz\\\n",
    "Memória RAM = 6GB\\\n",
    "Versão gcc = 11.3\n",
    "\n",
    "#### Informações GPU\n",
    "\n",
    "Placa de vídeo = GTX 1050 Ti\\\n",
    "Memória de vídeo = 4GB\\\n",
    "Clock = 1290 MHz\\\n",
    "Versão CUDA toolkit = 12.1"
   ]
  },
  {
   "cell_type": "code",
   "execution_count": 22,
   "metadata": {},
   "outputs": [],
   "source": [
    "import numpy as np\n",
    "import matplotlib.pyplot as plt\n",
    "import pandas as pd\n",
    "\n",
    "from metrics import Resultados"
   ]
  },
  {
   "cell_type": "code",
   "execution_count": 23,
   "metadata": {},
   "outputs": [
    {
     "name": "stdout",
     "output_type": "stream",
     "text": [
      "../dgemm-code/resultadosO0.csv\n"
     ]
    }
   ],
   "source": [
    "resultadosO0 = Resultados(\"../dgemm-code/resultadosO0.csv\")\n",
    "#resultadosO3 = Resultados(\"../dgemm-code/resultadosO3.csv\")\n",
    "#resultadosO4 = Resultados(\"../dgemm-code/resultadosO4.csv\")\n",
    "#resultadosCUDA = Resultados(\"../dgemm-code/resultadosCUDA.csv\")"
   ]
  },
  {
   "cell_type": "code",
   "execution_count": 24,
   "metadata": {},
   "outputs": [
    {
     "ename": "TypeError",
     "evalue": "'int' object is not iterable",
     "output_type": "error",
     "traceback": [
      "\u001b[0;31m---------------------------------------------------------------------------\u001b[0m",
      "\u001b[0;31mTypeError\u001b[0m                                 Traceback (most recent call last)",
      "Cell \u001b[0;32mIn[24], line 1\u001b[0m\n\u001b[0;32m----> 1\u001b[0m resultadosO0\u001b[39m.\u001b[39;49mcalculaFLOPS()\n",
      "File \u001b[0;32m~/Documents/UFRJ/Arq.Comp/DGEMM-arqcomp/time-analysis/metrics.py:32\u001b[0m, in \u001b[0;36mResultados.calculaFLOPS\u001b[0;34m(self)\u001b[0m\n\u001b[1;32m     30\u001b[0m \u001b[39mself\u001b[39m\u001b[39m.\u001b[39mmediaFLOPS\u001b[39m.\u001b[39mappend([])\n\u001b[1;32m     31\u001b[0m \u001b[39m# para cada tamanho de matriz\u001b[39;00m\n\u001b[0;32m---> 32\u001b[0m \u001b[39mfor\u001b[39;00m j \u001b[39min\u001b[39;00m \u001b[39mlen\u001b[39m(tamanhos):\n\u001b[1;32m     33\u001b[0m     \u001b[39m# tira média das linhas que possuem tamanho de matriz = j e estão na coluna i\u001b[39;00m\n\u001b[1;32m     34\u001b[0m     media_tempo_por_tamanho \u001b[39m=\u001b[39m \u001b[39mself\u001b[39m\u001b[39m.\u001b[39mdataframe\u001b[39m.\u001b[39mloc[\u001b[39mself\u001b[39m\u001b[39m.\u001b[39mdataframe[\u001b[39m\"\u001b[39m\u001b[39mTamanho da matriz\u001b[39m\u001b[39m\"\u001b[39m] \u001b[39m==\u001b[39m tamanhos[j], i]\u001b[39m.\u001b[39mmean()\n\u001b[1;32m     35\u001b[0m     std_tempo_por_tamanho \u001b[39m=\u001b[39m \u001b[39mself\u001b[39m\u001b[39m.\u001b[39mdataframe\u001b[39m.\u001b[39mloc[\u001b[39mself\u001b[39m\u001b[39m.\u001b[39mdataframe[\u001b[39m\"\u001b[39m\u001b[39mTamanho da matriz\u001b[39m\u001b[39m\"\u001b[39m] \u001b[39m==\u001b[39m tamanhos[j], i]\u001b[39m.\u001b[39mstd()\n",
      "\u001b[0;31mTypeError\u001b[0m: 'int' object is not iterable"
     ]
    }
   ],
   "source": [
    "resultadosO0.calculaFLOPS()"
   ]
  },
  {
   "attachments": {},
   "cell_type": "markdown",
   "metadata": {},
   "source": [
    "## Calculando as métricas de avaliação"
   ]
  },
  {
   "attachments": {},
   "cell_type": "markdown",
   "metadata": {},
   "source": [
    "### FLOPS"
   ]
  },
  {
   "cell_type": "code",
   "execution_count": null,
   "metadata": {},
   "outputs": [
    {
     "ename": "AttributeError",
     "evalue": "'dict' object has no attribute 'name'",
     "output_type": "error",
     "traceback": [
      "\u001b[0;31m---------------------------------------------------------------------------\u001b[0m",
      "\u001b[0;31mAttributeError\u001b[0m                            Traceback (most recent call last)",
      "Cell \u001b[0;32mIn[8], line 3\u001b[0m\n\u001b[1;32m      1\u001b[0m resultados \u001b[39m=\u001b[39m pd\u001b[39m.\u001b[39mread_csv(\u001b[39m'\u001b[39m\u001b[39m../dgemm-code/resultadosO0.csv\u001b[39m\u001b[39m'\u001b[39m, sep\u001b[39m=\u001b[39m\u001b[39m\"\u001b[39m\u001b[39m;\u001b[39m\u001b[39m\"\u001b[39m)\n\u001b[1;32m      2\u001b[0m resultados\u001b[39m.\u001b[39mattrs[\u001b[39m'\u001b[39m\u001b[39mname\u001b[39m\u001b[39m'\u001b[39m] \u001b[39m=\u001b[39m \u001b[39m\"\u001b[39m\u001b[39mola\u001b[39m\u001b[39m\"\u001b[39m\n\u001b[0;32m----> 3\u001b[0m resultados\u001b[39m.\u001b[39;49mattrs\u001b[39m.\u001b[39;49mname\n",
      "\u001b[0;31mAttributeError\u001b[0m: 'dict' object has no attribute 'name'"
     ]
    }
   ],
   "source": [
    "# calcula o FLOPS de cada função e tamanho de matriz\n",
    "for dataframe in resultados:\n",
    "    calculaFLOPS()"
   ]
  },
  {
   "cell_type": "code",
   "execution_count": null,
   "metadata": {},
   "outputs": [],
   "source": [
    "# plota os gráficos de barras (uma barra por função + barra pro CUDA)\n",
    "# um gráfico por flag de otimização"
   ]
  },
  {
   "cell_type": "markdown",
   "metadata": {},
   "source": [
    "### Tempo absoluto"
   ]
  },
  {
   "cell_type": "code",
   "execution_count": null,
   "metadata": {},
   "outputs": [],
   "source": [
    "# plotar as curvas de tempo por tamanho para cada função + cuda\n",
    "# um gráfico por flag de otimização\n",
    "\n",
    "# objetivo: ver qual curva tem menor derivada, logo será melhor para matrizes grandes"
   ]
  },
  {
   "attachments": {},
   "cell_type": "markdown",
   "metadata": {},
   "source": [
    "### Número de instruções\n"
   ]
  },
  {
   "attachments": {},
   "cell_type": "markdown",
   "metadata": {},
   "source": [
    "Utilizando o site [Compiler Explorer](https://www.godbolt.org) para gerar o código assembly de cada uma das funções DGEMM do arquivo DGEMM.c, foi possível contar o número de instruções de cada uma das funções. Para isso, foram utilizados a versão 11.3 do gcc x86 e as flags `-mavx -lrt -Wall`, além da respectiva flag de otimização. Em seguida, foi contado o número de instruções de cada uma das funções. O resultado pode ser visto na tabela abaixo.\n",
    "\n",
    "\n",
    "\n",
    "|Flag do compilador|Normal|Instru AVX| AVX+UNROLL|AVX+BLOCK|\n",
    "|------------------|--------------------|------------------|--------------------|--------------------|\n",
    "|-O0|70|90|128|203|\n",
    "|-O3|44|51|63|147|\n",
    "|-Ofast|81|51|63|147|"
   ]
  }
 ],
 "metadata": {
  "kernelspec": {
   "display_name": "Python 3",
   "language": "python",
   "name": "python3"
  },
  "language_info": {
   "codemirror_mode": {
    "name": "ipython",
    "version": 3
   },
   "file_extension": ".py",
   "mimetype": "text/x-python",
   "name": "python",
   "nbconvert_exporter": "python",
   "pygments_lexer": "ipython3",
   "version": "3.10.6"
  }
 },
 "nbformat": 4,
 "nbformat_minor": 2
}
