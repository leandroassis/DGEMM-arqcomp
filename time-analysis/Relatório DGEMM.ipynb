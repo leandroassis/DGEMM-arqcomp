{
 "cells": [
  {
   "attachments": {},
   "cell_type": "markdown",
   "metadata": {},
   "source": [
    "## Trabalho 1 - DGEMM \n",
    "\n",
    "### Grupo: Leandro Assis dos Santos e Gabriel Guimarães\n",
    "\n",
    "#### Hardware de teste:\n",
    "\n",
    "#### Informações CPU\n",
    "CPU = AMD Ryzen 5 3500U\\\n",
    "Clock = 2.1 GHz\\\n",
    "Memória RAM = 6GB\\\n",
    "Versão gcc = 11.3\n",
    "\n",
    "#### Informações GPU\n",
    "\n",
    "Placa de vídeo = GTX 1050 Ti\\\n",
    "Memória de vídeo = 4GB\\\n",
    "Clock = 1290 MHz\\\n",
    "Versão CUDA toolkit = 12.1"
   ]
  },
  {
   "cell_type": "code",
   "execution_count": 31,
   "metadata": {},
   "outputs": [],
   "source": [
    "import numpy as np\n",
    "import matplotlib.pyplot as plt\n",
    "import pandas as pd\n",
    "\n",
    "from metrics import Resultados"
   ]
  },
  {
   "cell_type": "code",
   "execution_count": 32,
   "metadata": {},
   "outputs": [],
   "source": [
    "resultadosO0 = Resultados(\"../dgemm-code/resultadosO0.csv\")\n",
    "resultadosO3 = Resultados(\"../dgemm-code/resultadosO3.csv\")\n",
    "resultadosO4 = Resultados(\"../dgemm-code/resultadosO4.csv\")\n",
    "resultadosCUDA = Resultados(\"../dgemm-code/resultadosCUDA.csv\")"
   ]
  },
  {
   "attachments": {},
   "cell_type": "markdown",
   "metadata": {},
   "source": [
    "## Calculando as métricas de avaliação"
   ]
  },
  {
   "attachments": {},
   "cell_type": "markdown",
   "metadata": {},
   "source": [
    "### Valores médios"
   ]
  },
  {
   "cell_type": "code",
   "execution_count": 33,
   "metadata": {},
   "outputs": [],
   "source": [
    "# opera os resultados para calcular o FLOPS e tempo médios de cada função\n",
    "resultadosCUDA.calculaFLOPS()\n",
    "resultadosO0.calculaFLOPS()\n",
    "resultadosO3.calculaFLOPS()\n",
    "resultadosO4.calculaFLOPS()"
   ]
  },
  {
   "attachments": {},
   "cell_type": "markdown",
   "metadata": {},
   "source": [
    "#### O3"
   ]
  },
  {
   "cell_type": "code",
   "execution_count": 34,
   "metadata": {},
   "outputs": [
    {
     "name": "stdout",
     "output_type": "stream",
     "text": [
      "GFLOPS\n"
     ]
    },
    {
     "data": {
      "text/html": [
       "<div>\n",
       "<style scoped>\n",
       "    .dataframe tbody tr th:only-of-type {\n",
       "        vertical-align: middle;\n",
       "    }\n",
       "\n",
       "    .dataframe tbody tr th {\n",
       "        vertical-align: top;\n",
       "    }\n",
       "\n",
       "    .dataframe thead th {\n",
       "        text-align: right;\n",
       "    }\n",
       "</style>\n",
       "<table border=\"1\" class=\"dataframe\">\n",
       "  <thead>\n",
       "    <tr style=\"text-align: right;\">\n",
       "      <th></th>\n",
       "      <th>4096X4096</th>\n",
       "      <th>5120X5120</th>\n",
       "      <th>6144X6144</th>\n",
       "      <th>7168X7168</th>\n",
       "      <th>8192X8192</th>\n",
       "    </tr>\n",
       "  </thead>\n",
       "  <tbody>\n",
       "    <tr>\n",
       "      <th>Normal</th>\n",
       "      <td>0.13 ± 0.00</td>\n",
       "      <td>0.14 ± 0.00</td>\n",
       "      <td>0.13 ± 0.00</td>\n",
       "      <td>0.13 ± 0.00</td>\n",
       "      <td>0.11 ± 0.00</td>\n",
       "    </tr>\n",
       "    <tr>\n",
       "      <th>AVX</th>\n",
       "      <td>0.36 ± 0.00</td>\n",
       "      <td>0.39 ± 0.00</td>\n",
       "      <td>0.38 ± 0.00</td>\n",
       "      <td>0.38 ± 0.00</td>\n",
       "      <td>0.36 ± 0.00</td>\n",
       "    </tr>\n",
       "    <tr>\n",
       "      <th>Unroll</th>\n",
       "      <td>0.52 ± 0.01</td>\n",
       "      <td>0.54 ± 0.00</td>\n",
       "      <td>0.54 ± 0.01</td>\n",
       "      <td>0.53 ± 0.00</td>\n",
       "      <td>0.51 ± 0.01</td>\n",
       "    </tr>\n",
       "    <tr>\n",
       "      <th>Block</th>\n",
       "      <td>3.17 ± 0.00</td>\n",
       "      <td>3.13 ± 0.09</td>\n",
       "      <td>3.01 ± 0.21</td>\n",
       "      <td>3.02 ± 0.00</td>\n",
       "      <td>2.92 ± 0.04</td>\n",
       "    </tr>\n",
       "  </tbody>\n",
       "</table>\n",
       "</div>"
      ],
      "text/plain": [
       "          4096X4096    5120X5120    6144X6144    7168X7168    8192X8192\n",
       "Normal  0.13 ± 0.00  0.14 ± 0.00  0.13 ± 0.00  0.13 ± 0.00  0.11 ± 0.00\n",
       "AVX     0.36 ± 0.00  0.39 ± 0.00  0.38 ± 0.00  0.38 ± 0.00  0.36 ± 0.00\n",
       "Unroll  0.52 ± 0.01  0.54 ± 0.00  0.54 ± 0.01  0.53 ± 0.00  0.51 ± 0.01\n",
       "Block   3.17 ± 0.00  3.13 ± 0.09  3.01 ± 0.21  3.02 ± 0.00  2.92 ± 0.04"
      ]
     },
     "execution_count": 34,
     "metadata": {},
     "output_type": "execute_result"
    }
   ],
   "source": [
    "# apresenta os dataframes com os resultados médios\n",
    "GFLOPS, tempo = resultadosO3.toDataFrame()\n",
    "\n",
    "print(\"GFLOPS\")\n",
    "GFLOPS"
   ]
  },
  {
   "cell_type": "code",
   "execution_count": 35,
   "metadata": {},
   "outputs": [
    {
     "name": "stdout",
     "output_type": "stream",
     "text": [
      "Tempo em segundos\n"
     ]
    },
    {
     "data": {
      "text/html": [
       "<div>\n",
       "<style scoped>\n",
       "    .dataframe tbody tr th:only-of-type {\n",
       "        vertical-align: middle;\n",
       "    }\n",
       "\n",
       "    .dataframe tbody tr th {\n",
       "        vertical-align: top;\n",
       "    }\n",
       "\n",
       "    .dataframe thead th {\n",
       "        text-align: right;\n",
       "    }\n",
       "</style>\n",
       "<table border=\"1\" class=\"dataframe\">\n",
       "  <thead>\n",
       "    <tr style=\"text-align: right;\">\n",
       "      <th></th>\n",
       "      <th>4096X4096</th>\n",
       "      <th>5120X5120</th>\n",
       "      <th>6144X6144</th>\n",
       "      <th>7168X7168</th>\n",
       "      <th>8192X8192</th>\n",
       "    </tr>\n",
       "  </thead>\n",
       "  <tbody>\n",
       "    <tr>\n",
       "      <th>Normal</th>\n",
       "      <td>520.94 ± 2.88</td>\n",
       "      <td>984.99 ± 0.23</td>\n",
       "      <td>1771.18 ± 0.38</td>\n",
       "      <td>2909.86 ± 14.06</td>\n",
       "      <td>4892.35 ± 35.10</td>\n",
       "    </tr>\n",
       "    <tr>\n",
       "      <th>AVX</th>\n",
       "      <td>188.54 ± 0.78</td>\n",
       "      <td>346.94 ± 0.28</td>\n",
       "      <td>604.75 ± 1.21</td>\n",
       "      <td>977.00 ± 0.63</td>\n",
       "      <td>1512.28 ± 0.76</td>\n",
       "    </tr>\n",
       "    <tr>\n",
       "      <th>Unroll</th>\n",
       "      <td>131.50 ± 1.58</td>\n",
       "      <td>246.72 ± 0.73</td>\n",
       "      <td>428.57 ± 8.17</td>\n",
       "      <td>691.19 ± 4.55</td>\n",
       "      <td>1073.60 ± 12.10</td>\n",
       "    </tr>\n",
       "    <tr>\n",
       "      <th>Block</th>\n",
       "      <td>21.67 ± 0.03</td>\n",
       "      <td>42.88 ± 1.22</td>\n",
       "      <td>77.00 ± 5.36</td>\n",
       "      <td>121.85 ± 0.02</td>\n",
       "      <td>188.23 ± 2.58</td>\n",
       "    </tr>\n",
       "  </tbody>\n",
       "</table>\n",
       "</div>"
      ],
      "text/plain": [
       "            4096X4096      5120X5120       6144X6144        7168X7168  \\\n",
       "Normal  520.94 ± 2.88  984.99 ± 0.23  1771.18 ± 0.38  2909.86 ± 14.06   \n",
       "AVX     188.54 ± 0.78  346.94 ± 0.28   604.75 ± 1.21    977.00 ± 0.63   \n",
       "Unroll  131.50 ± 1.58  246.72 ± 0.73   428.57 ± 8.17    691.19 ± 4.55   \n",
       "Block    21.67 ± 0.03   42.88 ± 1.22    77.00 ± 5.36    121.85 ± 0.02   \n",
       "\n",
       "              8192X8192  \n",
       "Normal  4892.35 ± 35.10  \n",
       "AVX      1512.28 ± 0.76  \n",
       "Unroll  1073.60 ± 12.10  \n",
       "Block     188.23 ± 2.58  "
      ]
     },
     "execution_count": 35,
     "metadata": {},
     "output_type": "execute_result"
    }
   ],
   "source": [
    "print(\"Tempo em segundos\")\n",
    "tempo"
   ]
  },
  {
   "attachments": {},
   "cell_type": "markdown",
   "metadata": {},
   "source": [
    "#### O4"
   ]
  },
  {
   "cell_type": "code",
   "execution_count": 36,
   "metadata": {},
   "outputs": [
    {
     "name": "stdout",
     "output_type": "stream",
     "text": [
      "GFLOPS\n"
     ]
    },
    {
     "data": {
      "text/html": [
       "<div>\n",
       "<style scoped>\n",
       "    .dataframe tbody tr th:only-of-type {\n",
       "        vertical-align: middle;\n",
       "    }\n",
       "\n",
       "    .dataframe tbody tr th {\n",
       "        vertical-align: top;\n",
       "    }\n",
       "\n",
       "    .dataframe thead th {\n",
       "        text-align: right;\n",
       "    }\n",
       "</style>\n",
       "<table border=\"1\" class=\"dataframe\">\n",
       "  <thead>\n",
       "    <tr style=\"text-align: right;\">\n",
       "      <th></th>\n",
       "      <th>4096X4096</th>\n",
       "      <th>5120X5120</th>\n",
       "      <th>6144X6144</th>\n",
       "      <th>7168X7168</th>\n",
       "      <th>8192X8192</th>\n",
       "    </tr>\n",
       "  </thead>\n",
       "  <tbody>\n",
       "    <tr>\n",
       "      <th>Normal</th>\n",
       "      <td>0.13 ± 0.00</td>\n",
       "      <td>0.13 ± 0.00</td>\n",
       "      <td>0.12 ± 0.00</td>\n",
       "      <td>0.13 ± 0.00</td>\n",
       "      <td>0.11 ± 0.00</td>\n",
       "    </tr>\n",
       "    <tr>\n",
       "      <th>AVX</th>\n",
       "      <td>0.36 ± 0.00</td>\n",
       "      <td>0.36 ± 0.02</td>\n",
       "      <td>0.38 ± 0.00</td>\n",
       "      <td>0.38 ± 0.00</td>\n",
       "      <td>0.37 ± 0.00</td>\n",
       "    </tr>\n",
       "    <tr>\n",
       "      <th>Unroll</th>\n",
       "      <td>0.53 ± 0.00</td>\n",
       "      <td>0.56 ± 0.00</td>\n",
       "      <td>0.54 ± 0.01</td>\n",
       "      <td>0.53 ± 0.00</td>\n",
       "      <td>0.53 ± 0.01</td>\n",
       "    </tr>\n",
       "    <tr>\n",
       "      <th>Block</th>\n",
       "      <td>1.94 ± 0.07</td>\n",
       "      <td>1.85 ± 0.47</td>\n",
       "      <td>2.06 ± 0.12</td>\n",
       "      <td>2.01 ± 0.09</td>\n",
       "      <td>2.65 ± 0.11</td>\n",
       "    </tr>\n",
       "  </tbody>\n",
       "</table>\n",
       "</div>"
      ],
      "text/plain": [
       "          4096X4096    5120X5120    6144X6144    7168X7168    8192X8192\n",
       "Normal  0.13 ± 0.00  0.13 ± 0.00  0.12 ± 0.00  0.13 ± 0.00  0.11 ± 0.00\n",
       "AVX     0.36 ± 0.00  0.36 ± 0.02  0.38 ± 0.00  0.38 ± 0.00  0.37 ± 0.00\n",
       "Unroll  0.53 ± 0.00  0.56 ± 0.00  0.54 ± 0.01  0.53 ± 0.00  0.53 ± 0.01\n",
       "Block   1.94 ± 0.07  1.85 ± 0.47  2.06 ± 0.12  2.01 ± 0.09  2.65 ± 0.11"
      ]
     },
     "execution_count": 36,
     "metadata": {},
     "output_type": "execute_result"
    }
   ],
   "source": [
    "# apresenta os dataframes com os resultados médios\n",
    "GFLOPS, tempo = resultadosO4.toDataFrame()\n",
    "\n",
    "print(\"GFLOPS\")\n",
    "GFLOPS"
   ]
  },
  {
   "cell_type": "code",
   "execution_count": 37,
   "metadata": {},
   "outputs": [
    {
     "name": "stdout",
     "output_type": "stream",
     "text": [
      "Tempo em segundos\n"
     ]
    },
    {
     "data": {
      "text/html": [
       "<div>\n",
       "<style scoped>\n",
       "    .dataframe tbody tr th:only-of-type {\n",
       "        vertical-align: middle;\n",
       "    }\n",
       "\n",
       "    .dataframe tbody tr th {\n",
       "        vertical-align: top;\n",
       "    }\n",
       "\n",
       "    .dataframe thead th {\n",
       "        text-align: right;\n",
       "    }\n",
       "</style>\n",
       "<table border=\"1\" class=\"dataframe\">\n",
       "  <thead>\n",
       "    <tr style=\"text-align: right;\">\n",
       "      <th></th>\n",
       "      <th>4096X4096</th>\n",
       "      <th>5120X5120</th>\n",
       "      <th>6144X6144</th>\n",
       "      <th>7168X7168</th>\n",
       "      <th>8192X8192</th>\n",
       "    </tr>\n",
       "  </thead>\n",
       "  <tbody>\n",
       "    <tr>\n",
       "      <th>Normal</th>\n",
       "      <td>544.56 ± 1.13</td>\n",
       "      <td>1025.70 ± 4.78</td>\n",
       "      <td>1884.24 ± 26.50</td>\n",
       "      <td>2891.44 ± 3.88</td>\n",
       "      <td>4942.08 ± 22.74</td>\n",
       "    </tr>\n",
       "    <tr>\n",
       "      <th>AVX</th>\n",
       "      <td>192.54 ± 0.28</td>\n",
       "      <td>368.17 ± 21.02</td>\n",
       "      <td>606.05 ± 2.47</td>\n",
       "      <td>970.29 ± 2.99</td>\n",
       "      <td>1492.58 ± 3.24</td>\n",
       "    </tr>\n",
       "    <tr>\n",
       "      <th>Unroll</th>\n",
       "      <td>129.43 ± 1.00</td>\n",
       "      <td>241.09 ± 1.00</td>\n",
       "      <td>433.20 ± 5.52</td>\n",
       "      <td>695.74 ± 4.80</td>\n",
       "      <td>1038.57 ± 10.13</td>\n",
       "    </tr>\n",
       "    <tr>\n",
       "      <th>Block</th>\n",
       "      <td>35.35 ± 1.36</td>\n",
       "      <td>72.66 ± 18.43</td>\n",
       "      <td>112.81 ± 6.51</td>\n",
       "      <td>183.15 ± 8.49</td>\n",
       "      <td>207.44 ± 8.58</td>\n",
       "    </tr>\n",
       "  </tbody>\n",
       "</table>\n",
       "</div>"
      ],
      "text/plain": [
       "            4096X4096       5120X5120        6144X6144       7168X7168  \\\n",
       "Normal  544.56 ± 1.13  1025.70 ± 4.78  1884.24 ± 26.50  2891.44 ± 3.88   \n",
       "AVX     192.54 ± 0.28  368.17 ± 21.02    606.05 ± 2.47   970.29 ± 2.99   \n",
       "Unroll  129.43 ± 1.00   241.09 ± 1.00    433.20 ± 5.52   695.74 ± 4.80   \n",
       "Block    35.35 ± 1.36   72.66 ± 18.43    112.81 ± 6.51   183.15 ± 8.49   \n",
       "\n",
       "              8192X8192  \n",
       "Normal  4942.08 ± 22.74  \n",
       "AVX      1492.58 ± 3.24  \n",
       "Unroll  1038.57 ± 10.13  \n",
       "Block     207.44 ± 8.58  "
      ]
     },
     "execution_count": 37,
     "metadata": {},
     "output_type": "execute_result"
    }
   ],
   "source": [
    "print(\"Tempo em segundos\")\n",
    "tempo"
   ]
  },
  {
   "attachments": {},
   "cell_type": "markdown",
   "metadata": {},
   "source": [
    "#### O0"
   ]
  },
  {
   "cell_type": "code",
   "execution_count": 38,
   "metadata": {},
   "outputs": [
    {
     "name": "stdout",
     "output_type": "stream",
     "text": [
      "GFLOPS\n"
     ]
    },
    {
     "data": {
      "text/html": [
       "<div>\n",
       "<style scoped>\n",
       "    .dataframe tbody tr th:only-of-type {\n",
       "        vertical-align: middle;\n",
       "    }\n",
       "\n",
       "    .dataframe tbody tr th {\n",
       "        vertical-align: top;\n",
       "    }\n",
       "\n",
       "    .dataframe thead th {\n",
       "        text-align: right;\n",
       "    }\n",
       "</style>\n",
       "<table border=\"1\" class=\"dataframe\">\n",
       "  <thead>\n",
       "    <tr style=\"text-align: right;\">\n",
       "      <th></th>\n",
       "      <th>4096X4096</th>\n",
       "      <th>5120X5120</th>\n",
       "      <th>6144X6144</th>\n",
       "      <th>7168X7168</th>\n",
       "      <th>8192X8192</th>\n",
       "    </tr>\n",
       "  </thead>\n",
       "  <tbody>\n",
       "    <tr>\n",
       "      <th>Normal</th>\n",
       "      <td>0.04 ± 0.00</td>\n",
       "      <td>0.04 ± 0.00</td>\n",
       "      <td>0.04 ± 0.00</td>\n",
       "      <td>0.04 ± 0.00</td>\n",
       "      <td>0.04 ± 0.00</td>\n",
       "    </tr>\n",
       "    <tr>\n",
       "      <th>AVX</th>\n",
       "      <td>0.09 ± 0.00</td>\n",
       "      <td>0.09 ± 0.00</td>\n",
       "      <td>0.09 ± 0.00</td>\n",
       "      <td>0.09 ± 0.00</td>\n",
       "      <td>0.09 ± 0.00</td>\n",
       "    </tr>\n",
       "    <tr>\n",
       "      <th>Unroll</th>\n",
       "      <td>0.11 ± 0.00</td>\n",
       "      <td>0.11 ± 0.00</td>\n",
       "      <td>0.11 ± 0.00</td>\n",
       "      <td>0.11 ± 0.00</td>\n",
       "      <td>0.11 ± 0.00</td>\n",
       "    </tr>\n",
       "    <tr>\n",
       "      <th>Block</th>\n",
       "      <td>0.32 ± 0.00</td>\n",
       "      <td>0.30 ± 0.01</td>\n",
       "      <td>0.30 ± 0.01</td>\n",
       "      <td>0.32 ± 0.01</td>\n",
       "      <td>0.33 ± 0.00</td>\n",
       "    </tr>\n",
       "  </tbody>\n",
       "</table>\n",
       "</div>"
      ],
      "text/plain": [
       "          4096X4096    5120X5120    6144X6144    7168X7168    8192X8192\n",
       "Normal  0.04 ± 0.00  0.04 ± 0.00  0.04 ± 0.00  0.04 ± 0.00  0.04 ± 0.00\n",
       "AVX     0.09 ± 0.00  0.09 ± 0.00  0.09 ± 0.00  0.09 ± 0.00  0.09 ± 0.00\n",
       "Unroll  0.11 ± 0.00  0.11 ± 0.00  0.11 ± 0.00  0.11 ± 0.00  0.11 ± 0.00\n",
       "Block   0.32 ± 0.00  0.30 ± 0.01  0.30 ± 0.01  0.32 ± 0.01  0.33 ± 0.00"
      ]
     },
     "execution_count": 38,
     "metadata": {},
     "output_type": "execute_result"
    }
   ],
   "source": [
    "# apresenta os dataframes com os resultados médios\n",
    "GFLOPS, tempo = resultadosO0.toDataFrame()\n",
    "\n",
    "print(\"GFLOPS\")\n",
    "GFLOPS"
   ]
  },
  {
   "cell_type": "code",
   "execution_count": 39,
   "metadata": {},
   "outputs": [
    {
     "name": "stdout",
     "output_type": "stream",
     "text": [
      "Tempo em segundos\n"
     ]
    },
    {
     "data": {
      "text/html": [
       "<div>\n",
       "<style scoped>\n",
       "    .dataframe tbody tr th:only-of-type {\n",
       "        vertical-align: middle;\n",
       "    }\n",
       "\n",
       "    .dataframe tbody tr th {\n",
       "        vertical-align: top;\n",
       "    }\n",
       "\n",
       "    .dataframe thead th {\n",
       "        text-align: right;\n",
       "    }\n",
       "</style>\n",
       "<table border=\"1\" class=\"dataframe\">\n",
       "  <thead>\n",
       "    <tr style=\"text-align: right;\">\n",
       "      <th></th>\n",
       "      <th>4096X4096</th>\n",
       "      <th>5120X5120</th>\n",
       "      <th>6144X6144</th>\n",
       "      <th>7168X7168</th>\n",
       "      <th>8192X8192</th>\n",
       "    </tr>\n",
       "  </thead>\n",
       "  <tbody>\n",
       "    <tr>\n",
       "      <th>Normal</th>\n",
       "      <td>1813.65 ± 5.34</td>\n",
       "      <td>3511.00 ± 5.96</td>\n",
       "      <td>5626.90 ± 10.40</td>\n",
       "      <td>9018.99 ± 39.98</td>\n",
       "      <td>14677.76 ± 14.89</td>\n",
       "    </tr>\n",
       "    <tr>\n",
       "      <th>AVX</th>\n",
       "      <td>782.59 ± 1.50</td>\n",
       "      <td>1516.13 ± 3.96</td>\n",
       "      <td>2538.44 ± 1.37</td>\n",
       "      <td>4027.03 ± 12.82</td>\n",
       "      <td>6145.49 ± 0.95</td>\n",
       "    </tr>\n",
       "    <tr>\n",
       "      <th>Unroll</th>\n",
       "      <td>608.21 ± 0.27</td>\n",
       "      <td>1181.22 ± 0.97</td>\n",
       "      <td>2055.68 ± 1.68</td>\n",
       "      <td>3271.62 ± 3.61</td>\n",
       "      <td>4883.05 ± 1.07</td>\n",
       "    </tr>\n",
       "    <tr>\n",
       "      <th>Block</th>\n",
       "      <td>215.51 ± 0.77</td>\n",
       "      <td>442.63 ± 7.69</td>\n",
       "      <td>772.99 ± 23.10</td>\n",
       "      <td>1163.41 ± 24.69</td>\n",
       "      <td>1687.27 ± 8.42</td>\n",
       "    </tr>\n",
       "  </tbody>\n",
       "</table>\n",
       "</div>"
      ],
      "text/plain": [
       "             4096X4096       5120X5120        6144X6144        7168X7168  \\\n",
       "Normal  1813.65 ± 5.34  3511.00 ± 5.96  5626.90 ± 10.40  9018.99 ± 39.98   \n",
       "AVX      782.59 ± 1.50  1516.13 ± 3.96   2538.44 ± 1.37  4027.03 ± 12.82   \n",
       "Unroll   608.21 ± 0.27  1181.22 ± 0.97   2055.68 ± 1.68   3271.62 ± 3.61   \n",
       "Block    215.51 ± 0.77   442.63 ± 7.69   772.99 ± 23.10  1163.41 ± 24.69   \n",
       "\n",
       "               8192X8192  \n",
       "Normal  14677.76 ± 14.89  \n",
       "AVX       6145.49 ± 0.95  \n",
       "Unroll    4883.05 ± 1.07  \n",
       "Block     1687.27 ± 8.42  "
      ]
     },
     "execution_count": 39,
     "metadata": {},
     "output_type": "execute_result"
    }
   ],
   "source": [
    "print(\"Tempo em segundos\")\n",
    "tempo"
   ]
  },
  {
   "attachments": {},
   "cell_type": "markdown",
   "metadata": {},
   "source": [
    "### Gráficos"
   ]
  },
  {
   "cell_type": "code",
   "execution_count": 40,
   "metadata": {},
   "outputs": [],
   "source": [
    "# plota os gráficos de barras (uma barra por função + barra pro CUDA)\n",
    "# um gráfico por flag de otimização\n",
    "\n",
    "barWidth = 0.15\n",
    "\n",
    "pos_barra = [[0, 1, 2, 3, 4]]\n",
    "\n",
    "for _ in range(4):\n",
    "    pos_barra.append([x + barWidth for x in pos_barra[-1]])"
   ]
  },
  {
   "cell_type": "code",
   "execution_count": 41,
   "metadata": {},
   "outputs": [
    {
     "data": {
      "image/png": "[encoded data removed]",
      "text/plain": [
       "<Figure size 800x800 with 3 Axes>"
      ]
     },
     "metadata": {},
     "output_type": "display_data"
    }
   ],
   "source": [
    "fig, ax = plt.subplots(3, 1, figsize=(8, 8))\n",
    "fig.tight_layout(pad=3.0)\n",
    "plt.setp(ax, xticks=[r + barWidth for r in range(5)], xticklabels=['16', '25', '36', '49', '64'])\n",
    "plt.setp(ax, ylabel='GFLOPS', xlabel='Tamanho (MiB)')\n",
    "\n",
    "# O4\n",
    "for idx, funcao in enumerate([\"normal\", \"avx\", \"unroll\", \"block\"]):\n",
    "    mediaFlops, stdFlops = resultadosO4.getFLOPSValues(funcao)\n",
    "    \n",
    "    ax[0].bar(pos_barra[idx], mediaFlops, width = barWidth, label = funcao)\n",
    "    ax[0].grid(axis='y', alpha=0.75)\n",
    "    ax[0].set_title(\"O4\", fontsize=10)\n",
    "    ax[0].legend(loc='upper center', bbox_to_anchor=(0.5, 1.05), shadow=True, ncol=5)\n",
    "\n",
    "# O3\n",
    "for idx, funcao in enumerate([\"normal\", \"avx\", \"unroll\", \"block\"]):\n",
    "    mediaFlops, stdFlops = resultadosO3.getFLOPSValues(funcao)\n",
    "\n",
    "    ax[1].bar(pos_barra[idx], mediaFlops, width = barWidth, label = funcao)\n",
    "    ax[1].grid(axis='y', alpha=0.75)\n",
    "    ax[1].set_title(\"O3\", fontsize=10)\n",
    "\n",
    "# O0\n",
    "for idx, funcao in enumerate([\"normal\", \"avx\", \"unroll\", \"block\"]):\n",
    "    mediaFlops, stdFlops = resultadosO0.getFLOPSValues(funcao)\n",
    "\n",
    "    ax[2].bar(pos_barra[idx], mediaFlops, width = barWidth, label = funcao)\n",
    "    ax[2].grid(axis='y', alpha=0.75)\n",
    "    ax[2].set_title(\"O0\", fontsize=10)\n"
   ]
  },
  {
   "cell_type": "code",
   "execution_count": 52,
   "metadata": {},
   "outputs": [
    {
     "data": {
      "image/png": "[encoded data removed]",
      "text/plain": [
       "<Figure size 800x800 with 3 Axes>"
      ]
     },
     "metadata": {},
     "output_type": "display_data"
    }
   ],
   "source": [
    "# plotar as curvas de tempo por tamanho para cada função + cuda\n",
    "# um gráfico por flag de otimização\n",
    "\n",
    "# objetivo: ver qual curva tem menor derivada, logo será melhor para matrizes grandes\n",
    "\n",
    "fig, ax = plt.subplots(3, 1, figsize=(8, 8))\n",
    "fig.tight_layout(pad=3.0)\n",
    "plt.setp(ax, ylabel='Tempo (s)', xlabel='Tamanho (MiB)')\n",
    "plt.setp(ax, xticks=[16, 25, 36, 49, 64], xticklabels=['16', '25', '36', '49', '64'])\n",
    "x = [16, 25, 36, 49, 64]\n",
    "\n",
    "# O4\n",
    "for idx, funcao in enumerate([\"normal\", \"avx\", \"unroll\", \"block\"]):\n",
    "    mediaFlops, stdFlops = resultadosO4.getTempoValues(funcao)\n",
    "    \n",
    "    ax[0].errorbar(x, mediaFlops, yerr=stdFlops, label = funcao, fmt='o', capsize=5)\n",
    "    ax[0].grid(axis='y', alpha=0.75)\n",
    "    ax[0].set_title(\"O4\", fontsize=10)\n",
    "    ax[0].legend(loc='upper center', bbox_to_anchor=(0.5, 1.05), shadow=True, ncol=5)\n",
    "\n",
    "# O3\n",
    "for idx, funcao in enumerate([\"normal\", \"avx\", \"unroll\", \"block\"]):\n",
    "    mediaFlops, stdFlops = resultadosO3.getTempoValues(funcao)\n",
    "\n",
    "    ax[1].errorbar(x, mediaFlops, yerr=stdFlops, label = funcao, fmt='o', capsize=5)\n",
    "    ax[1].grid(axis='y', alpha=0.75)\n",
    "    ax[1].set_title(\"O3\", fontsize=10)\n",
    "\n",
    "# O0\n",
    "for idx, funcao in enumerate([\"normal\", \"avx\", \"unroll\", \"block\"]):\n",
    "    mediaFlops, stdFlops = resultadosO0.getTempoValues(funcao)\n",
    "\n",
    "    ax[2].errorbar(x, mediaFlops, yerr=stdFlops, label = funcao, fmt='o', capsize=5)\n",
    "    ax[2].grid(axis='y', alpha=0.75)\n",
    "    ax[2].set_title(\"O0\", fontsize=10)"
   ]
  },
  {
   "attachments": {},
   "cell_type": "markdown",
   "metadata": {},
   "source": [
    "## Extras:"
   ]
  },
  {
   "attachments": {},
   "cell_type": "markdown",
   "metadata": {},
   "source": [
    "### Número de instruções\n"
   ]
  },
  {
   "attachments": {},
   "cell_type": "markdown",
   "metadata": {},
   "source": [
    "Utilizando o site [Compiler Explorer](https://www.godbolt.org) para gerar o código assembly de cada uma das funções DGEMM do arquivo DGEMM.c, foi possível contar o número de instruções de cada uma das funções. Para isso, foram utilizados a versão 11.3 do gcc x86 e as flags `-mavx -lrt -Wall`, além da respectiva flag de otimização. Em seguida, foi contado o número de instruções de cada uma das funções. O resultado pode ser visto na tabela abaixo.\n",
    "\n",
    "\n",
    "\n",
    "|Flag do compilador|Normal|Instru AVX| AVX+UNROLL|AVX+BLOCK|\n",
    "|------------------|--------------------|------------------|--------------------|--------------------|\n",
    "|-O0|70|90|128|203|\n",
    "|-O3|44|51|63|147|\n",
    "|-Ofast|81|51|63|147|"
   ]
  },
  {
   "attachments": {},
   "cell_type": "markdown",
   "metadata": {},
   "source": [
    "### CUDA"
   ]
  },
  {
   "cell_type": "code",
   "execution_count": 43,
   "metadata": {},
   "outputs": [
    {
     "name": "stdout",
     "output_type": "stream",
     "text": [
      "GFLOPS\n"
     ]
    },
    {
     "data": {
      "text/html": [
       "<div>\n",
       "<style scoped>\n",
       "    .dataframe tbody tr th:only-of-type {\n",
       "        vertical-align: middle;\n",
       "    }\n",
       "\n",
       "    .dataframe tbody tr th {\n",
       "        vertical-align: top;\n",
       "    }\n",
       "\n",
       "    .dataframe thead th {\n",
       "        text-align: right;\n",
       "    }\n",
       "</style>\n",
       "<table border=\"1\" class=\"dataframe\">\n",
       "  <thead>\n",
       "    <tr style=\"text-align: right;\">\n",
       "      <th></th>\n",
       "      <th>4096X4096</th>\n",
       "      <th>5120X5120</th>\n",
       "      <th>6144X6144</th>\n",
       "      <th>7168X7168</th>\n",
       "      <th>8192X8192</th>\n",
       "    </tr>\n",
       "  </thead>\n",
       "  <tbody>\n",
       "    <tr>\n",
       "      <th>CUDA</th>\n",
       "      <td>13.64 ± 0.29</td>\n",
       "      <td>13.44 ± 0.05</td>\n",
       "      <td>13.51 ± 0.06</td>\n",
       "      <td>13.16 ± 0.04</td>\n",
       "      <td>13.18 ± 0.02</td>\n",
       "    </tr>\n",
       "  </tbody>\n",
       "</table>\n",
       "</div>"
      ],
      "text/plain": [
       "         4096X4096     5120X5120     6144X6144     7168X7168     8192X8192\n",
       "CUDA  13.64 ± 0.29  13.44 ± 0.05  13.51 ± 0.06  13.16 ± 0.04  13.18 ± 0.02"
      ]
     },
     "execution_count": 43,
     "metadata": {},
     "output_type": "execute_result"
    }
   ],
   "source": [
    "GFLOPS, tempo = resultadosCUDA.toDataFrame()\n",
    "\n",
    "print(\"GFLOPS\")\n",
    "GFLOPS"
   ]
  },
  {
   "cell_type": "code",
   "execution_count": 44,
   "metadata": {},
   "outputs": [
    {
     "name": "stdout",
     "output_type": "stream",
     "text": [
      "Tempo em segundos\n"
     ]
    },
    {
     "data": {
      "text/html": [
       "<div>\n",
       "<style scoped>\n",
       "    .dataframe tbody tr th:only-of-type {\n",
       "        vertical-align: middle;\n",
       "    }\n",
       "\n",
       "    .dataframe tbody tr th {\n",
       "        vertical-align: top;\n",
       "    }\n",
       "\n",
       "    .dataframe thead th {\n",
       "        text-align: right;\n",
       "    }\n",
       "</style>\n",
       "<table border=\"1\" class=\"dataframe\">\n",
       "  <thead>\n",
       "    <tr style=\"text-align: right;\">\n",
       "      <th></th>\n",
       "      <th>4096X4096</th>\n",
       "      <th>5120X5120</th>\n",
       "      <th>6144X6144</th>\n",
       "      <th>7168X7168</th>\n",
       "      <th>8192X8192</th>\n",
       "    </tr>\n",
       "  </thead>\n",
       "  <tbody>\n",
       "    <tr>\n",
       "      <th>CUDA</th>\n",
       "      <td>5.04 ± 0.11</td>\n",
       "      <td>9.99 ± 0.04</td>\n",
       "      <td>17.16 ± 0.07</td>\n",
       "      <td>27.99 ± 0.08</td>\n",
       "      <td>41.71 ± 0.07</td>\n",
       "    </tr>\n",
       "  </tbody>\n",
       "</table>\n",
       "</div>"
      ],
      "text/plain": [
       "        4096X4096    5120X5120     6144X6144     7168X7168     8192X8192\n",
       "CUDA  5.04 ± 0.11  9.99 ± 0.04  17.16 ± 0.07  27.99 ± 0.08  41.71 ± 0.07"
      ]
     },
     "execution_count": 44,
     "metadata": {},
     "output_type": "execute_result"
    }
   ],
   "source": [
    "print(\"Tempo em segundos\")\n",
    "tempo"
   ]
  },
  {
   "cell_type": "code",
   "execution_count": 54,
   "metadata": {},
   "outputs": [
    {
     "data": {
      "image/png": "[encoded data removed]",
      "text/plain": [
       "<Figure size 640x480 with 1 Axes>"
      ]
     },
     "metadata": {},
     "output_type": "display_data"
    }
   ],
   "source": [
    "for idx, funcao in enumerate([\"normal\"]):\n",
    "    mediaFlops, stdFlops = resultadosCUDA.getFLOPSValues(funcao)\n",
    "\n",
    "    plt.bar(pos_barra[0], mediaFlops, width = barWidth, label = \"cuda\", color='green')\n",
    "    plt.grid(axis='y', alpha=0.75)\n",
    "    plt.xticks(pos_barra[0], ['16', '25', '36', '49', '64'])\n",
    "\n",
    "    plt.legend(loc='upper center', bbox_to_anchor=(0.5, 1.05), shadow=True)\n",
    "    plt.xlabel('Tamanho (MiB)')\n",
    "    plt.ylabel('GFLOPS')"
   ]
  }
 ],
 "metadata": {
  "kernelspec": {
   "display_name": "Python 3",
   "language": "python",
   "name": "python3"
  },
  "language_info": {
   "codemirror_mode": {
    "name": "ipython",
    "version": 3
   },
   "file_extension": ".py",
   "mimetype": "text/x-python",
   "name": "python",
   "nbconvert_exporter": "python",
   "pygments_lexer": "ipython3",
   "version": "3.10.6"
  }
 },
 "nbformat": 4,
 "nbformat_minor": 2
}
